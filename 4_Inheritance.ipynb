{
  "cells": [
    {
      "cell_type": "markdown",
      "metadata": {
        "id": "view-in-github",
        "colab_type": "text"
      },
      "source": [
        "<a href=\"https://colab.research.google.com/github/nikenp8384/Kuliah_S2/blob/main/4_Inheritance.ipynb\" target=\"_parent\"><img src=\"https://colab.research.google.com/assets/colab-badge.svg\" alt=\"Open In Colab\"/></a>"
      ]
    },
    {
      "cell_type": "markdown",
      "metadata": {
        "id": "ga0GNfJbNO7G"
      },
      "source": [
        "# 4. Inheritance\n",
        "\n",
        "## Inheritance\n",
        "Inheritance in OOP is Inheriting the attributes and methods of a base class into a derived class\n",
        "\n",
        "<img src=\"https://github.com/BenedictusAryo/OOP_Python/blob/master/assets/7_Inheritance.png?raw=1\" width=\"280\">"
      ]
    },
    {
      "cell_type": "markdown",
      "metadata": {
        "id": "B09-iNxjNO7L"
      },
      "source": [
        "* __Syntax:__\n",
        "\n",
        "```python\n",
        "class BaseClass:\n",
        "    # Body of BaseClass\n",
        "    \n",
        "class DerivedClass(BaseClass):\n",
        "    # Body of DerivedClass\n",
        "```\n",
        "\n",
        "**Example:**"
      ]
    },
    {
      "cell_type": "code",
      "execution_count": null,
      "metadata": {
        "id": "F1xdPU0-NO7M"
      },
      "outputs": [],
      "source": [
        "# Base Class\n",
        "class Apple:\n",
        "    manufacturer = \"Apple Inc.\"\n",
        "    contactWebsite = \"www.apple.com/contact\"\n",
        "    \n",
        "    def contactDetails(self):\n",
        "        print(\"To contact us, log on to\", self.contactWebsite)"
      ]
    },
    {
      "cell_type": "code",
      "execution_count": null,
      "metadata": {
        "id": "2v4Oh7R1NO7N"
      },
      "outputs": [],
      "source": [
        "# Derived Class\n",
        "class MacBook(Apple):\n",
        "    def __init__(self):\n",
        "        self.yearOfManufacture = 2017\n",
        "        \n",
        "    def manufactureDetails(self):\n",
        "        print(\"This Macbook was manufactured in the year {} by {}\"\\\n",
        "              .format(self.yearOfManufacture, self.manufacturer))\n",
        "        "
      ]
    },
    {
      "cell_type": "markdown",
      "metadata": {
        "id": "OWHUTwDYNO7O"
      },
      "source": [
        "<br>\n",
        "\n",
        "**Inheritance in Action**"
      ]
    },
    {
      "cell_type": "code",
      "execution_count": null,
      "metadata": {
        "id": "voqvfMbzNO7O",
        "outputId": "a24ae371-f9d6-41b6-a19f-f3ec59ce8c3f"
      },
      "outputs": [
        {
          "name": "stdout",
          "output_type": "stream",
          "text": [
            "This Macbook was manufactured in the year 2017 by Apple Inc.\n",
            "To contact us, log on to www.apple.com/contact\n"
          ]
        }
      ],
      "source": [
        "# Initialization\n",
        "macbook = MacBook()\n",
        "\n",
        "# Try call Inheritance Attribute\n",
        "macbook.manufactureDetails()\n",
        "\n",
        "# Try call Inheritance method\n",
        "macbook.contactDetails()"
      ]
    },
    {
      "cell_type": "markdown",
      "metadata": {
        "id": "vCujWfLDNO7P"
      },
      "source": [
        "<br><br>\n",
        "\n",
        "___\n",
        "\n",
        "# Multiple Inheritance\n",
        "Multiple Inheritance is Mechanism in which a derived class inherits from two or more base classes\n",
        "\n",
        "<img src=\"https://github.com/BenedictusAryo/OOP_Python/blob/master/assets/8_Multiple%20Inheritance.png?raw=1\" width=\"400\">"
      ]
    },
    {
      "cell_type": "markdown",
      "metadata": {
        "id": "2CU2OMVTNO7Q"
      },
      "source": [
        "* __Syntax:__\n",
        "\n",
        "```python\n",
        "class BaseClassOne:\n",
        "    # Body of BaseClass 1\n",
        "    \n",
        "class BaseClassTwo:\n",
        "    # Body of BaseClass 2\n",
        "    \n",
        "class DerivedClass(BaseClassOne, BaseClassTwo):\n",
        "    # Body of DerivedClass\n",
        "```\n",
        "\n",
        "**Example:**"
      ]
    },
    {
      "cell_type": "code",
      "execution_count": null,
      "metadata": {
        "id": "l3YIB_DCNO7R"
      },
      "outputs": [],
      "source": [
        "# Base Class One\n",
        "class OperatingSystem:\n",
        "    multitasking = True\n",
        "\n",
        "# Base Class Two    \n",
        "class Apple:\n",
        "    website = \"www.apple.com\""
      ]
    },
    {
      "cell_type": "code",
      "execution_count": null,
      "metadata": {
        "id": "CATgij5rNO7S"
      },
      "outputs": [],
      "source": [
        "# Derived Class\n",
        "class MacBook(OperatingSystem, Apple):\n",
        "    def __init__(self):\n",
        "        if self.multitasking is True:\n",
        "            print(\"This is a multitasking system. Visit {} for more details\"\\\n",
        "                 .format(self.website))"
      ]
    },
    {
      "cell_type": "markdown",
      "metadata": {
        "id": "dxmsNdpiNO7S"
      },
      "source": [
        "<br>\n",
        "\n",
        "**Multiple Inheritance in Action**"
      ]
    },
    {
      "cell_type": "code",
      "execution_count": null,
      "metadata": {
        "id": "LVKHRdsANO7T",
        "outputId": "e54d1aab-9e57-4e16-ad3d-a86d65c5a5fa"
      },
      "outputs": [
        {
          "name": "stdout",
          "output_type": "stream",
          "text": [
            "This is a multitasking system. Visit www.apple.com for more details\n"
          ]
        }
      ],
      "source": [
        "macbook = MacBook()"
      ]
    },
    {
      "cell_type": "markdown",
      "metadata": {
        "id": "g3P8B-d8NO7T"
      },
      "source": [
        "<br><br>\n",
        "\n",
        "## Common Attribute in Multiple Inheritance Class\n",
        "Now, what if both of your base class has got a common atribute ?\n"
      ]
    },
    {
      "cell_type": "code",
      "execution_count": null,
      "metadata": {
        "id": "4ggdUouoNO7T"
      },
      "outputs": [],
      "source": [
        "# Base Class One\n",
        "class OperatingSystem:\n",
        "    multitasking = True\n",
        "    name = \"Mac OS\"\n",
        "\n",
        "# Base Class Two    \n",
        "class Apple:\n",
        "    website = \"www.apple.com\"\n",
        "    name = \"Apple\""
      ]
    },
    {
      "cell_type": "markdown",
      "metadata": {
        "id": "zpeKg7zwNO7U"
      },
      "source": [
        "Both **`OperatingSystem`** and **`Apple`** Class have _common attribute_ called `name`"
      ]
    },
    {
      "cell_type": "code",
      "execution_count": null,
      "metadata": {
        "id": "p94sPN-ENO7U",
        "outputId": "3ef41eec-3ee5-4ecd-a190-da549fc60842"
      },
      "outputs": [
        {
          "name": "stdout",
          "output_type": "stream",
          "text": [
            "This is a multitasking system. Visit www.apple.com for more details\n",
            "Name:  Mac OS\n"
          ]
        }
      ],
      "source": [
        "# Derived Class\n",
        "class MacBook(OperatingSystem, Apple):\n",
        "    def __init__(self):\n",
        "        if self.multitasking is True:\n",
        "            print(\"This is a multitasking system. Visit {} for more details\"\\\n",
        "                 .format(self.website))\n",
        "            print(\"Name: \", self.name)\n",
        "            \n",
        "macbook = MacBook()"
      ]
    },
    {
      "cell_type": "markdown",
      "metadata": {
        "id": "qQb4MffxNO7U"
      },
      "source": [
        "### Change the order or Inherited class\n"
      ]
    },
    {
      "cell_type": "code",
      "execution_count": null,
      "metadata": {
        "id": "gkZWQiNaNO7V",
        "outputId": "018c625c-6eae-47f6-cc2e-8def55ced20d"
      },
      "outputs": [
        {
          "name": "stdout",
          "output_type": "stream",
          "text": [
            "This is a multitasking system. Visit www.apple.com for more details\n",
            "Name:  Apple\n"
          ]
        }
      ],
      "source": [
        "# Derived Class\n",
        "class MacBook(Apple, OperatingSystem):\n",
        "    def __init__(self):\n",
        "        if self.multitasking is True:\n",
        "            print(\"This is a multitasking system. Visit {} for more details\"\\\n",
        "                 .format(self.website))\n",
        "            print(\"Name: \", self.name)\n",
        "            \n",
        "macbook = MacBook()"
      ]
    },
    {
      "cell_type": "markdown",
      "metadata": {
        "id": "HDnYRKVdNO7V"
      },
      "source": [
        "<br>\n",
        "\n",
        "**_The Attribute of Derived class will depends on the order in which we inherited_**"
      ]
    },
    {
      "cell_type": "markdown",
      "metadata": {
        "id": "K58coWyfNO7V"
      },
      "source": [
        "<br><br>\n",
        "\n",
        "___\n",
        "\n",
        "# Multilevel Inheritance\n",
        "**Multilevel Inheritance is Series if Inheritance.** We have a class at the first level and another class at the second level. The class at the second level inherits from the class at the first level.\n",
        "\n",
        "And when we have a class at the third level that inherits from the class at the second level. <br>\n",
        "**_`The class at the third level will have access to all the attributes and methods to all the classes in the upper levels.`_**\n",
        "\n",
        "<img src=\"https://github.com/BenedictusAryo/OOP_Python/blob/master/assets/9_Multilevel%20Inheritance.png?raw=1\" width=\"400\">"
      ]
    },
    {
      "cell_type": "code",
      "execution_count": null,
      "metadata": {
        "id": "iF2pA_bwNO7W"
      },
      "outputs": [],
      "source": [
        "# First Level Base Class\n",
        "class MusicalInstruments:\n",
        "    numberOfMajorKeys = 12\n",
        "    \n",
        "# Second Level Class\n",
        "class StringInstruments(MusicalInstruments):\n",
        "    typeOfWood = \"ToneWood\"\n",
        "    \n",
        "# Third Level Derived Class\n",
        "class Guitar(StringInstruments):\n",
        "    def __init__(self):\n",
        "        self.numberOfString = 6\n",
        "        print(\"This guiter consists of {} strings. \\nIt is made of {} and it can play {} keys\"\\\n",
        "             .format(self.numberOfString, self.typeOfWood, self.numberOfMajorKeys))"
      ]
    },
    {
      "cell_type": "code",
      "execution_count": null,
      "metadata": {
        "id": "sl7XYLcvNO7W",
        "outputId": "81b8909d-796e-4ccb-c066-dfa80d3c2dd3"
      },
      "outputs": [
        {
          "name": "stdout",
          "output_type": "stream",
          "text": [
            "This guiter consists of 6 strings. \n",
            "It is made of ToneWood and it can play 12 keys\n"
          ]
        }
      ],
      "source": [
        "# Multilevel Inheritance initialization\n",
        "guitar = Guitar()"
      ]
    },
    {
      "cell_type": "markdown",
      "metadata": {
        "id": "W17WVtolNO7W"
      },
      "source": [
        "<br><br>\n",
        "\n",
        "___\n",
        "\n",
        "# Naming Conventions in Python <br>_(Public, Protected and Private)_\n",
        "\n",
        "* **Public :** The Attribute and Method are accessible anywhere even outside the derived class\n",
        "* **Protected :** The Attribute and Method are accessible only to the class and derived class\n",
        "* **Private :** The Attribute and Method are accessible only to the class it self, even not to the derived class\n",
        "\n",
        "<br>\n",
        "\n",
        "* __Syntax:__\n",
        "\n",
        "```R\n",
        "Public    ->  memberName\n",
        "Protected ->  _memberName\n",
        "Private   ->  __memberName\n",
        "```\n",
        "\n",
        "<br>\n",
        "\n",
        "**How is name mangling done for private members by\n",
        "Python ?**\n",
        "\n",
        "Name mangling is done by prepending the member name\n",
        "with an underscore and class name.\n",
        "\n",
        "`_className__memberName`\n",
        "\n",
        "<br>\n",
        "\n",
        "### Public, Protected & Private Attribute Class"
      ]
    },
    {
      "cell_type": "code",
      "execution_count": null,
      "metadata": {
        "id": "kWJ3j9HsNO7X",
        "outputId": "7dbe3796-d9a6-4455-b763-65658f6710a5"
      },
      "outputs": [
        {
          "name": "stdout",
          "output_type": "stream",
          "text": [
            "Public attribute numberOf Wheels:  4\n",
            "Protected attribute color:  Black\n",
            "Private attribute yearOfManufacture:  2017\n"
          ]
        }
      ],
      "source": [
        "class Car:\n",
        "    # Public Attribute\n",
        "    numberOfWheels = 4\n",
        "    \n",
        "    # Protected Attribute\n",
        "    _color = \"Black\"\n",
        "    \n",
        "    # Private Attribute\n",
        "    __yearOfManufacture = 2017 # Store as _Car__yearOfManufacture\n",
        "    \n",
        "class BMW(Car):\n",
        "    def __init__(self):\n",
        "        print(\"Protected attribute color: \", self._color)\n",
        "        \n",
        "        \n",
        "# Public\n",
        "car = Car()\n",
        "print(\"Public attribute numberOf Wheels: \", car.numberOfWheels)\n",
        "\n",
        "# Protected\n",
        "bmw = BMW()\n",
        "\n",
        "# Private\n",
        "print(\"Private attribute yearOfManufacture: \", car._Car__yearOfManufacture)"
      ]
    },
    {
      "cell_type": "markdown",
      "metadata": {
        "id": "6GNXIfWBNO7X"
      },
      "source": [
        "<br><br>\n",
        "\n",
        "___\n",
        "\n",
        "## **Exercise**\n",
        "\n",
        "Write an object oriented program that performs the following tasks:\n",
        "1. Create a class called Chair from the base class Furniture\n",
        "2. Teakwood should be the type of furniture that is used by all furnitures by default\n",
        "3. The user can be given an option to change the type of wood used for chair if he wishes to\n",
        "4. The number of legs of a chair should be a property that should not be altered outside the class\n",
        "\n",
        "<br>\n",
        "\n",
        "**_Answer_**\n"
      ]
    },
    {
      "cell_type": "code",
      "execution_count": null,
      "metadata": {
        "id": "iyViwjyyNO7X",
        "outputId": "a5bf07d9-130e-4ef0-d149-c1bcc44bb8dc"
      },
      "outputs": [
        {
          "name": "stdout",
          "output_type": "stream",
          "text": [
            "Would you like to change the type of wood from Teakwood? Y/N\n"
          ]
        },
        {
          "name": "stdin",
          "output_type": "stream",
          "text": [
            " N\n"
          ]
        },
        {
          "name": "stdout",
          "output_type": "stream",
          "text": [
            "This chair is made of Teakwood and has 4 legs\n"
          ]
        }
      ],
      "source": [
        "class Furniture:\n",
        "    def __init__(self):\n",
        "        self._woodType = 'Teakwood' \n",
        "\n",
        "class Chair(Furniture):\n",
        "    def __init__(self):\n",
        "        super().__init__()\n",
        "        self.__numberOfLegs = 4\n",
        "        \n",
        "    def setWoodType(self, typeOfWood):\n",
        "        self._woodType = typeOfWood\n",
        "        \n",
        "    def displayChairSpecification(self):\n",
        "        print('This chair is made of {} and has {} legs'\\\n",
        "             .format(self._woodType, self.__numberOfLegs))\n",
        "\n",
        "        \n",
        "# Initialization        \n",
        "chair = Chair()    \n",
        "print(\"Would you like to change the type of wood from Teakwood? Y/N\")\n",
        "userChoice = input()\n",
        "if userChoice is 'Y':\n",
        "    print(\"Enter the type of wood you would like your chair to be made of\")\n",
        "    typeOfWood = input()\n",
        "    chair.setWoodType(typeOfWood)\n",
        "chair.displayChairSpecification()"
      ]
    }
  ],
  "metadata": {
    "kernelspec": {
      "display_name": "Python 3",
      "language": "python",
      "name": "python3"
    },
    "language_info": {
      "codemirror_mode": {
        "name": "ipython",
        "version": 3
      },
      "file_extension": ".py",
      "mimetype": "text/x-python",
      "name": "python",
      "nbconvert_exporter": "python",
      "pygments_lexer": "ipython3",
      "version": "3.7.4"
    },
    "colab": {
      "provenance": [],
      "include_colab_link": true
    }
  },
  "nbformat": 4,
  "nbformat_minor": 0
}