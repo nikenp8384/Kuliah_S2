{
  "cells": [
    {
      "cell_type": "markdown",
      "metadata": {
        "id": "view-in-github",
        "colab_type": "text"
      },
      "source": [
        "<a href=\"https://colab.research.google.com/github/nikenp8384/Kuliah_S2/blob/main/1_Classes%20and%20Object.ipynb\" target=\"_parent\"><img src=\"https://colab.research.google.com/assets/colab-badge.svg\" alt=\"Open In Colab\"/></a>"
      ]
    },
    {
      "cell_type": "markdown",
      "metadata": {
        "id": "Xtzhh51iMRhT"
      },
      "source": [
        "# 1. Classes and Object\n",
        "\n",
        "## The Need to go for classes and objects:\n",
        "\n",
        "Say, we have a function called `calculateSalary()` This function is made globally so it can be accessed by **`Employee`** and **`Student`**.\n",
        "\n",
        "We want to restrict the access to this function only to and **`Employee`** and **NOT** to a **`Student`**.\n",
        "\n",
        "So classes and objects help us do that by placing this function called `calculateSalary()` within a box and we seal that box and make it available only to an **Employee**.\n",
        "\n",
        "<br><br>\n",
        "\n",
        "## Class\n",
        "A class is logical grouping of attributes(variables) and\n",
        "methods(functions)\n",
        "\n",
        "* __Syntax:__\n",
        "```python\n",
        "class ClassName:\n",
        "    # class body\n",
        "```\n"
      ]
    },
    {
      "cell_type": "code",
      "execution_count": 2,
      "metadata": {
        "id": "NiQbd7ldMRhY"
      },
      "outputs": [],
      "source": [
        "# Check if and employee has achieved his weekly target or not\n",
        "class Employee:\n",
        "    name = 'Ben'\n",
        "    designation = 'Sales Executive'\n",
        "    salesMadeThisWeek = 6\n",
        "    def hasAchievedTarget(self):\n",
        "        if self.salesMadeThisWeek >= 5:\n",
        "            print('Target has been achieved')\n",
        "        else:\n",
        "            print('target has not been achieved')"
      ]
    },
    {
      "cell_type": "markdown",
      "metadata": {
        "id": "LTYvjuJKMRhZ"
      },
      "source": [
        "<br><br>\n",
        "\n",
        "## Object\n",
        "Object is an instance of a class that has access to all the attributes and methods of that class\n",
        "* **Syntax:**\n",
        "```python\n",
        "objectName = ClassName()\n",
        "```\n",
        "The object now has access to all the\n",
        "attributes and methods of the class\n",
        "\n",
        "### Object Instantiation\n",
        "The process of creation of an object of a class is called instantiation"
      ]
    },
    {
      "cell_type": "code",
      "execution_count": null,
      "metadata": {
        "id": "w9iRCg0_MRha",
        "outputId": "ccfa6d8e-d8a2-4881-c81c-1e193ccd8616"
      },
      "outputs": [
        {
          "data": {
            "text/plain": [
              "'Ben'"
            ]
          },
          "execution_count": 2,
          "metadata": {},
          "output_type": "execute_result"
        }
      ],
      "source": [
        "# Instantiate Object\n",
        "employeeOne = Employee()\n",
        "\n",
        "# Check EmployeeOne Name\n",
        "employeeOne.name"
      ]
    },
    {
      "cell_type": "code",
      "execution_count": null,
      "metadata": {
        "id": "8pV2oXU9MRhb",
        "outputId": "204bc2e2-79fa-4a3f-8e59-bc9099f7b4ee"
      },
      "outputs": [
        {
          "name": "stdout",
          "output_type": "stream",
          "text": [
            "Target has been achieved\n"
          ]
        }
      ],
      "source": [
        "# Check if the object has achieved Target\n",
        "employeeOne.hasAchievedTarget()"
      ]
    },
    {
      "cell_type": "markdown",
      "metadata": {
        "id": "CxCOl23aMRhb"
      },
      "source": [
        "<br>\n",
        "\n",
        "Now, let's create another `Employee` object"
      ]
    },
    {
      "cell_type": "code",
      "execution_count": null,
      "metadata": {
        "id": "Yhn5DktaMRhc",
        "outputId": "128f9078-6167-4d2f-b85a-a3d0eba35516"
      },
      "outputs": [
        {
          "data": {
            "text/plain": [
              "'Ben'"
            ]
          },
          "execution_count": 4,
          "metadata": {},
          "output_type": "execute_result"
        }
      ],
      "source": [
        "employeeTwo = Employee()\n",
        "\n",
        "# Check EmployeeTwo Name\n",
        "employeeTwo.name"
      ]
    },
    {
      "cell_type": "markdown",
      "metadata": {
        "id": "FnByWSW3MRhd"
      },
      "source": [
        "This is **not the right way to initialize attributes of yout objects when you have the attributes that are specific to each object**\n",
        "\n",
        "<br><br>\n",
        "\n",
        "___\n",
        "\n",
        "## Everything in Python is an Object"
      ]
    },
    {
      "cell_type": "code",
      "execution_count": null,
      "metadata": {
        "id": "rqI8vN6PMRhd",
        "outputId": "817c541b-1e53-43c8-f21c-8235309f4259"
      },
      "outputs": [
        {
          "name": "stdout",
          "output_type": "stream",
          "text": [
            "<class 'list'>\n",
            "<class 'str'>\n"
          ]
        }
      ],
      "source": [
        "numbers = [1, 2, 3]\n",
        "words = 'Hello world!'\n",
        "\n",
        "print(type(numbers))\n",
        "print(type(words))"
      ]
    },
    {
      "cell_type": "markdown",
      "metadata": {
        "id": "kCz4vSgrMRhe"
      },
      "source": [
        "We see that even the variable `numbers` and `words` is an Object created from the class `List` and `String` Datatype.\n",
        "\n",
        "Each class have their specific method. \n",
        "\n",
        "**_Example:_** "
      ]
    },
    {
      "cell_type": "code",
      "execution_count": null,
      "metadata": {
        "id": "V32OxbTiMRhf",
        "outputId": "e2246ffc-4877-4a47-c261-5c78ee1915ca"
      },
      "outputs": [
        {
          "data": {
            "text/plain": [
              "[1, 2, 3, 4]"
            ]
          },
          "execution_count": 6,
          "metadata": {},
          "output_type": "execute_result"
        }
      ],
      "source": [
        "numbers.append(4)\n",
        "numbers"
      ]
    },
    {
      "cell_type": "markdown",
      "metadata": {
        "id": "4mK_Psb1MRhf"
      },
      "source": [
        "The method `append()` only owned by `List Object`"
      ]
    }
  ],
  "metadata": {
    "kernelspec": {
      "display_name": "Python 3",
      "language": "python",
      "name": "python3"
    },
    "language_info": {
      "codemirror_mode": {
        "name": "ipython",
        "version": 3
      },
      "file_extension": ".py",
      "mimetype": "text/x-python",
      "name": "python",
      "nbconvert_exporter": "python",
      "pygments_lexer": "ipython3",
      "version": "3.7.4"
    },
    "colab": {
      "provenance": [],
      "include_colab_link": true
    }
  },
  "nbformat": 4,
  "nbformat_minor": 0
}